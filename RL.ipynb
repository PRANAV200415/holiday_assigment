{
  "nbformat": 4,
  "nbformat_minor": 0,
  "metadata": {
    "colab": {
      "provenance": []
    },
    "kernelspec": {
      "name": "python3",
      "display_name": "Python 3"
    },
    "language_info": {
      "name": "python"
    }
  },
  "cells": [
    {
      "cell_type": "markdown",
      "source": [
        "Multi-Armed Bandit Problem with UCB Algorithm"
      ],
      "metadata": {
        "id": "EereRhPCJXEu"
      }
    },
    {
      "cell_type": "markdown",
      "source": [
        "Pranav Rao 2211cs020420\n"
      ],
      "metadata": {
        "id": "vaWgBScXJlGj"
      }
    },
    {
      "cell_type": "code",
      "execution_count": 1,
      "metadata": {
        "colab": {
          "base_uri": "https://localhost:8080/"
        },
        "id": "lKMyiuyyJN9W",
        "outputId": "aec63dca-fe27-41d0-e91a-c423b658c0b0"
      },
      "outputs": [
        {
          "output_type": "stream",
          "name": "stdout",
          "text": [
            "Total reward after 1000 rounds: 733\n"
          ]
        }
      ],
      "source": [
        "import math\n",
        "import random\n",
        "\n",
        "class MultiArmedBandit:\n",
        "    def __init__(self, n_arms):\n",
        "        self.n_arms = n_arms\n",
        "        self.counts = [0] * n_arms  # Number of times each arm is pulled\n",
        "        self.values = [0.0] * n_arms  # Estimated rewards for each arm\n",
        "\n",
        "    def select_arm(self):\n",
        "        total_counts = sum(self.counts)\n",
        "        if total_counts < self.n_arms:\n",
        "            return total_counts  # Explore untried arms first\n",
        "        ucb_values = [\n",
        "            self.values[i] + math.sqrt(2 * math.log(total_counts) / self.counts[i])\n",
        "            for i in range(self.n_arms)\n",
        "        ]\n",
        "        return ucb_values.index(max(ucb_values))  # Select the arm with max UCB\n",
        "\n",
        "    def update(self, arm, reward):\n",
        "        self.counts[arm] += 1\n",
        "        n = self.counts[arm]\n",
        "        value = self.values[arm]\n",
        "        self.values[arm] = ((n - 1) / n) * value + (1 / n) * reward\n",
        "\n",
        "# Game Simulation\n",
        "def simulate_game(bandit, reward_probabilities, n_rounds):\n",
        "    total_reward = 0\n",
        "    for _ in range(n_rounds):\n",
        "        arm = bandit.select_arm()\n",
        "        reward = 1 if random.random() < reward_probabilities[arm] else 0\n",
        "        bandit.update(arm, reward)\n",
        "        total_reward += reward\n",
        "    return total_reward\n",
        "\n",
        "# Example usage\n",
        "n_arms = 3\n",
        "reward_probabilities = [0.2, 0.5, 0.8]  # Hidden probabilities of rewards for each arm\n",
        "bandit = MultiArmedBandit(n_arms)\n",
        "total_reward = simulate_game(bandit, reward_probabilities, 1000)\n",
        "print(f\"Total reward after 1000 rounds: {total_reward}\")\n"
      ]
    },
    {
      "cell_type": "markdown",
      "source": [
        " UCB for IoT-Based Smart Home Energy Optimization"
      ],
      "metadata": {
        "id": "uBolRf2eJT8_"
      }
    },
    {
      "cell_type": "code",
      "source": [
        "import random\n",
        "import math\n",
        "\n",
        "class SmartHomeOptimizer:\n",
        "    def __init__(self, n_devices):\n",
        "        self.n_devices = n_devices\n",
        "        self.counts = [0] * n_devices\n",
        "        self.efficiency = [0.0] * n_devices\n",
        "\n",
        "    def select_device(self):\n",
        "        total_counts = sum(self.counts)\n",
        "        if total_counts < self.n_devices:\n",
        "            return total_counts  # Explore untried devices\n",
        "        ucb_values = [\n",
        "            self.efficiency[i] + math.sqrt(2 * math.log(total_counts) / self.counts[i])\n",
        "            for i in range(self.n_devices)\n",
        "        ]\n",
        "        return ucb_values.index(max(ucb_values))\n",
        "\n",
        "    def update(self, device, efficiency):\n",
        "        self.counts[device] += 1\n",
        "        n = self.counts[device]\n",
        "        value = self.efficiency[device]\n",
        "        self.efficiency[device] = ((n - 1) / n) * value + (1 / n) * efficiency\n",
        "\n",
        "# Simulate real-time energy usage\n",
        "def simulate_energy_optimizer(optimizer, energy_efficiency, n_rounds):\n",
        "    total_efficiency = 0\n",
        "    for _ in range(n_rounds):\n",
        "        device = optimizer.select_device()\n",
        "        efficiency = random.uniform(0, energy_efficiency[device])  # Simulate efficiency\n",
        "        optimizer.update(device, efficiency)\n",
        "        total_efficiency += efficiency\n",
        "    return total_efficiency\n",
        "\n",
        "# Example usage\n",
        "n_devices = 3\n",
        "energy_efficiency = [0.6, 0.8, 0.9]  # Max efficiency levels for devices\n",
        "optimizer = SmartHomeOptimizer(n_devices)\n",
        "total_efficiency = simulate_energy_optimizer(optimizer, energy_efficiency, 1000)\n",
        "print(f\"Total energy efficiency after 1000 rounds: {total_efficiency}\")\n"
      ],
      "metadata": {
        "colab": {
          "base_uri": "https://localhost:8080/"
        },
        "id": "7kjj_QTeJRAq",
        "outputId": "7a05d392-1de6-47c8-aa99-8b70c7e34243"
      },
      "execution_count": 2,
      "outputs": [
        {
          "output_type": "stream",
          "name": "stdout",
          "text": [
            "Total energy efficiency after 1000 rounds: 395.82163348576444\n"
          ]
        }
      ]
    },
    {
      "cell_type": "markdown",
      "source": [
        "Chess-like Game with PAC Algorithm"
      ],
      "metadata": {
        "id": "KUdWcfYLJdOt"
      }
    },
    {
      "cell_type": "code",
      "source": [
        "import numpy as np\n",
        "from sklearn.tree import DecisionTreeClassifier\n",
        "from sklearn.model_selection import train_test_split\n",
        "from sklearn.metrics import accuracy_score\n",
        "\n",
        "# Simplified chess board states and optimal moves\n",
        "# Example: [state, optimal_move]\n",
        "data = [\n",
        "    [[1, 0, 0, 0], 0],  # Move left\n",
        "    [[0, 1, 0, 0], 1],  # Move right\n",
        "    [[0, 0, 1, 0], 2],  # Move forward\n",
        "    [[0, 0, 0, 1], 3]   # Move backward\n",
        "]\n",
        "\n",
        "# Prepare dataset\n",
        "X = [d[0] for d in data]  # Board states\n",
        "y = [d[1] for d in data]  # Optimal moves\n",
        "X_train, X_test, y_train, y_test = train_test_split(X, y, test_size=0.2, random_state=42)\n",
        "\n",
        "# Train PAC model\n",
        "model = DecisionTreeClassifier()\n",
        "model.fit(X_train, y_train)\n",
        "\n",
        "# Evaluate the model\n",
        "y_pred = model.predict(X_test)\n",
        "print(f\"Accuracy: {accuracy_score(y_test, y_pred)}\")\n",
        "\n",
        "# Predict next move\n",
        "new_state = [0, 1, 0, 0]  # Example new board state\n",
        "predicted_move = model.predict([new_state])[0]\n",
        "print(f\"Predicted move for the new state: {predicted_move}\")\n"
      ],
      "metadata": {
        "colab": {
          "base_uri": "https://localhost:8080/"
        },
        "id": "b_C2Xg0VJS5n",
        "outputId": "0f4af786-1941-4309-eb71-97ba021d2a9e"
      },
      "execution_count": 3,
      "outputs": [
        {
          "output_type": "stream",
          "name": "stdout",
          "text": [
            "Accuracy: 0.0\n",
            "Predicted move for the new state: 3\n"
          ]
        }
      ]
    }
  ]
}